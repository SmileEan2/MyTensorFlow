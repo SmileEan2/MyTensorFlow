{
 "cells": [
  {
   "cell_type": "markdown",
   "metadata": {},
   "source": [
    "# MNIST at Tensorflow\n",
    "\n",
    "书籍《TensorFlow：实战Googles深度学习框架》第五章 MNIST数字识别问题中5.2.1给出的程序"
   ]
  },
  {
   "cell_type": "code",
   "execution_count": 2,
   "metadata": {},
   "outputs": [
    {
     "name": "stdout",
     "output_type": "stream",
     "text": [
      "Extracting OriginData/train-images-idx3-ubyte.gz\n",
      "Extracting OriginData/train-labels-idx1-ubyte.gz\n",
      "Extracting OriginData/t10k-images-idx3-ubyte.gz\n",
      "Extracting OriginData/t10k-labels-idx1-ubyte.gz\n",
      "Training data size: 55000\n",
      "Validating data size: 5000\n",
      "Testing data size: 10000\n",
      "Example training data: 784\n",
      "Example training data labels: 10\n"
     ]
    }
   ],
   "source": [
    "from tensorflow.examples.tutorials.mnist import input_data\n",
    "\n",
    "mnist = input_data.read_data_sets('OriginData/',one_hot=True)\n",
    "#\n",
    "print('Training data size:',mnist.train.num_examples)\n",
    "#\n",
    "print('Validating data size:',mnist.validation.num_examples)\n",
    "#\n",
    "print('Testing data size:',mnist.test.num_examples)\n",
    "#\n",
    "print('Example training data:',len(mnist.train.images[0]))\n",
    "#\n",
    "print('Example training data labels:',len(mnist.train.labels[0]))"
   ]
  },
  {
   "cell_type": "code",
   "execution_count": 3,
   "metadata": {},
   "outputs": [
    {
     "name": "stdout",
     "output_type": "stream",
     "text": [
      "Extracting OriginData/train-images-idx3-ubyte.gz\n",
      "Extracting OriginData/train-labels-idx1-ubyte.gz\n",
      "Extracting OriginData/t10k-images-idx3-ubyte.gz\n",
      "Extracting OriginData/t10k-labels-idx1-ubyte.gz\n",
      "After 0 training step(s),validation accuracyusing average model is 0.1138\n",
      "After 1000 training step(s),validation accuracyusing average model is 0.9726\n",
      "After 2000 training step(s),validation accuracyusing average model is 0.977\n",
      "After 3000 training step(s),validation accuracyusing average model is 0.9826\n",
      "After 4000 training step(s),validation accuracyusing average model is 0.9832\n",
      "After 5000 training step(s), test accuracy using average model is 0.9813\n"
     ]
    },
    {
     "ename": "SystemExit",
     "evalue": "",
     "output_type": "error",
     "traceback": [
      "An exception has occurred, use %tb to see the full traceback.\n",
      "\u001b[0;31mSystemExit\u001b[0m\n"
     ]
    },
    {
     "name": "stderr",
     "output_type": "stream",
     "text": [
      "/Users/ean2/anaconda/lib/python3.6/site-packages/IPython/core/interactiveshell.py:2889: UserWarning: To exit: use 'exit', 'quit', or Ctrl-D.\n",
      "  warn(\"To exit: use 'exit', 'quit', or Ctrl-D.\", stacklevel=1)\n"
     ]
    }
   ],
   "source": [
    "import tensorflow as tf\n",
    "from tensorflow.examples.tutorials.mnist import input_data\n",
    "\n",
    "# MNIST数据集相关的常数\n",
    "INPUT_NODE = 784\n",
    "OUTPUT_NODE = 10\n",
    "\n",
    "# 配置神经网络的参数\n",
    "LAYER1_NODE = 500       # 隐藏层节点数。这里使用只有一个隐藏层的网络结构\n",
    "BATCH_SIZE = 100        # 一个训练batch中的训练数据个数\n",
    "LEARNING_RATE_BASE = 0.8 # 基础学习率\n",
    "LEARNING_RATE_DECAY = 0.99 # 学习理财的衰减率\n",
    "REGULARIZATION_RATE = 0.0001 # 描述模型复杂度的正则化项在损失函数中农的系数\n",
    "TRAINING_STEPS = 5000\n",
    "MOVING_AVERAGE_DECAY = 0.99\n",
    "\n",
    "# 很多说明\n",
    "def inference(input_tensor, avg_class, weights1, biases1,\n",
    "              weights2, biases2):\n",
    "    # 当没有提供滑动平均类时，直接使用参数的当前取值\n",
    "    if avg_class == None:\n",
    "        layer1 = tf.nn.relu(tf.matmul(input_tensor, weights1) + biases1)\n",
    "        return tf.matmul(layer1, weights2) + biases2\n",
    "    else:\n",
    "        layer1 = tf.nn.relu(tf.matmul(input_tensor, avg_class.average(weights1))+\n",
    "                           avg_class.average(biases1))\n",
    "        return tf.matmul(layer1, avg_class.average(weights2)) + \\\n",
    "               avg_class.average(biases2)\n",
    "        \n",
    "# 训练模型的过程\n",
    "def train(mnist):\n",
    "    x = tf.placeholder(tf.float32, [None, INPUT_NODE], name='x-input' )\n",
    "    y_ = tf.placeholder(tf.float32, [None, OUTPUT_NODE], name='y-input')\n",
    "    \n",
    "    # 生成隐藏层的参数\n",
    "    weights1 = tf.Variable(tf.truncated_normal([INPUT_NODE, LAYER1_NODE], stddev=0.1))\n",
    "    biases1 = tf.Variable(tf.constant(0.1, shape=[LAYER1_NODE]))\n",
    "    # 生成输出层的参数\n",
    "    weights2 = tf.Variable(tf.truncated_normal([LAYER1_NODE, OUTPUT_NODE], stddev=0.1))\n",
    "    biases2 = tf.Variable(tf.constant(0.1, shape=[OUTPUT_NODE]))\n",
    "    # 计算在当前参数下神经网络前向传播的结果。这里给出的用于计算\n",
    "    # 滑动平均的类为None，所以函数不会使用参数的滑动平均值\n",
    "    y = inference(x, None, weights1, biases1, weights2, biases2)\n",
    "    # 定义存储训练论述的变量\n",
    "    global_step = tf.Variable(0,trainable=False)\n",
    "    \n",
    "    # 给定滑动平均衰减率和训练轮数的变量，初始化滑动平均类。\n",
    "    variable_averages = tf.train.ExponentialMovingAverage(\n",
    "                        MOVING_AVERAGE_DECAY, global_step)\n",
    "    #\n",
    "    variables_averages_op = variable_averages.apply(tf.trainable_variables())\n",
    "    # 计算使用了滑动平均之后的前向传播结果\n",
    "    average_y = inference(x, variable_averages, weights1, biases1, weights2, biases2)\n",
    "    # 计算交叉熵作为刻画预测值和真实值之间产局的损失函数。\n",
    "    cross_entropy = tf.nn.sparse_softmax_cross_entropy_with_logits(labels=tf.argmax(y_,1), logits=y)\n",
    "    # 计算在当前batch中所有样例的交叉熵平均值\n",
    "    cross_entropy_mean = tf.reduce_mean(cross_entropy)\n",
    "    \n",
    "    # 计算L2正则化损失函数\n",
    "    regularizer = tf.contrib.layers.l2_regularizer(REGULARIZATION_RATE)\n",
    "    # 计算模型的正则损失。\n",
    "    regularization = regularizer(weights1) + regularizer(weights2)\n",
    "    # 总损失等于交叉熵损失和正则化损失的和\n",
    "    loss = cross_entropy_mean + regularization\n",
    "    # 设置指数衰减的学习率\n",
    "    learning_rate = tf.train.exponential_decay(\n",
    "                    LEARNING_RATE_BASE,\n",
    "                    global_step,\n",
    "                    mnist.train.num_examples / BATCH_SIZE,\n",
    "                    LEARNING_RATE_DECAY)\n",
    "    # 使用tf.train.GradientDescentOptimizer优化算法来优化损失函数，\n",
    "    # 这里的损失函数包含了交叉熵损失和L2正则损失。\n",
    "    train_step = tf.train.GradientDescentOptimizer(learning_rate)\\\n",
    "                   .minimize(loss, global_step=global_step)\n",
    "    # \n",
    "    with tf.control_dependencies([train_step, variables_averages_op]):\n",
    "        train_op = tf.no_op(name='train')\n",
    "    #\n",
    "    correct_prediction = tf.equal(tf.argmax(y,1),tf.argmax(y_,1))\n",
    "    # \n",
    "    accuracy = tf.reduce_mean(tf.cast(correct_prediction, tf.float32))\n",
    "\n",
    "    # 初始化会话并开始训练过程\n",
    "    with tf.Session() as sess:\n",
    "        tf.global_variables_initializer().run()\n",
    "        # 准备验证数据。\n",
    "        # 条件和评判训练的效果\n",
    "        validate_feed = {x: mnist.validation.images,\n",
    "                         y_: mnist.validation.labels}\n",
    "        # 准备测试数据。在真实的应用中，这部分数据在训练时时不可见的，这个数据只是\n",
    "        # 作为模型优劣的最后评价标准。\n",
    "        test_feed = {x:mnist.test.images, y_:mnist.test.labels}\n",
    "    \n",
    "        # 迭代地训练神经网络\n",
    "        for i in range(TRAINING_STEPS):\n",
    "            # 每1000轮输出一次在验证数据集上的测试结果\n",
    "            if i % 1000 ==0:\n",
    "            #\n",
    "                validate_acc = sess.run(accuracy, feed_dict=validate_feed)\n",
    "                print(\"After %d training step(s),validation accuracy\"\n",
    "                      \"using average model is %g\" % (i, validate_acc))\n",
    "            # 产生这一轮使用的一个batch的训练数据，并运行训练过程\n",
    "            xs, ys = mnist.train.next_batch(BATCH_SIZE)\n",
    "            sess.run(train_op, feed_dict={x:xs, y_:ys})\n",
    "    \n",
    "        # 在训练结束之后，在测试数据上检测神经网络模型的最终正确率\n",
    "        test_acc = sess.run(accuracy, feed_dict=test_feed)\n",
    "        print(\"After %d training step(s), test accuracy using average \"\n",
    "              \"model is %g\" % (TRAINING_STEPS, test_acc))\n",
    "    \n",
    "# 主程序入口\n",
    "def main(argv=None):\n",
    "    # 声明处理MNIST数据集的类，这个类在初始化时会自动下载数据。\n",
    "    mnist = input_data.read_data_sets('OriginData/',one_hot=True)\n",
    "    train(mnist)\n",
    "    \n",
    "# TensorFlow 提供一个主程序入口， tf.app.run会调用上面定义的main函数\n",
    "if __name__ == '__main__':\n",
    "    tf.app.run()"
   ]
  },
  {
   "cell_type": "code",
   "execution_count": 21,
   "metadata": {},
   "outputs": [
    {
     "data": {
      "text/plain": [
       "(55000, 10)"
      ]
     },
     "execution_count": 21,
     "metadata": {},
     "output_type": "execute_result"
    }
   ],
   "source": [
    "import numpy as np\n",
    "np.shape(mnist.train.labels)"
   ]
  },
  {
   "cell_type": "markdown",
   "metadata": {
    "collapsed": true
   },
   "source": [
    "# 第七章 图像数据处理\n"
   ]
  },
  {
   "cell_type": "markdown",
   "metadata": {},
   "source": [
    "## 图像数据处理\n",
    "\n",
    "### 7.2.1 TensorFlow图像处理函数"
   ]
  },
  {
   "cell_type": "code",
   "execution_count": 8,
   "metadata": {},
   "outputs": [
    {
     "data": {
      "image/png": "[encoded data removed]",
      "text/plain": [
       "<matplotlib.figure.Figure at 0x1d2d13b20f0>"
      ]
     },
     "metadata": {},
     "output_type": "display_data"
    }
   ],
   "source": [
    "import matplotlib.pyplot as plt\n",
    "import tensorflow as tf\n",
    "\n",
    "# 读取图像原始数据\n",
    "image_raw_data = tf.gfile.FastGFile(r'C:\\Users\\Ean2\\Pictures\\Saved Pictures\\111.png','rb').read()\n",
    "\n",
    "with tf.Session() as sess:\n",
    "    img_data = tf.image.decode_png(image_raw_data)\n",
    "    #print('img_data.eval():\\n',img_data.eval())\n",
    "    # 使用pyplot 工具可视化得到图像\n",
    "    plt.imshow(img_data.eval())\n",
    "    plt.show()\n",
    "    \n",
    "    # 将数据转换成实数方便处理\n",
    "    img_data = tf.image.convert_image_dtype(img_data, dtype=tf.uint16)\n",
    "    #print(img_data.eval())\n",
    "    encoded_image = tf.image.encode_png(img_data)\n",
    "    with tf.gfile.GFile(r'C:\\Users\\Ean2\\Pictures\\Saved Pictures\\222.png','wb') as f:\n",
    "        f.write(encoded_image.eval())"
   ]
  },
  {
   "cell_type": "code",
   "execution_count": null,
   "metadata": {
    "collapsed": true
   },
   "outputs": [],
   "source": []
  },
  {
   "cell_type": "code",
   "execution_count": null,
   "metadata": {
    "collapsed": true
   },
   "outputs": [],
   "source": []
  },
  {
   "cell_type": "code",
   "execution_count": null,
   "metadata": {
    "collapsed": true
   },
   "outputs": [],
   "source": []
  },
  {
   "cell_type": "markdown",
   "metadata": {},
   "source": [
    "## 7.3 多线程输入数据处理\n",
    "\n",
    "### 7.3.1 队列与多线程\n",
    "\n",
    "修改队列状态的操作主要有：Enqueue\\EnqueueMany\\Dequeue"
   ]
  },
  {
   "cell_type": "code",
   "execution_count": 7,
   "metadata": {},
   "outputs": [
    {
     "name": "stdout",
     "output_type": "stream",
     "text": [
      "0\n",
      "10\n",
      "1\n",
      "11\n",
      "2\n"
     ]
    }
   ],
   "source": [
    "import tensorflow as tf\n",
    "\n",
    "q = tf.FIFOQueue(2,'int32')       # 创建一个先进先出队列\n",
    "init = q.enqueue_many(([0,10],)) # 使用enqueue_many来初始化队列\n",
    "x = q.dequeue()                # 使用dequeue函数将队列中第一个元素出队列\n",
    "y = x + 1\n",
    "q_inc = q.enqueue([y])         # 将y重新加入队列\n",
    "\n",
    "with tf.Session() as sess:\n",
    "    init.run()                 # 初始化队列\n",
    "    for _ in range(5):\n",
    "        v, _  = sess.run([x,q_inc])\n",
    "        print(v)               # 打印出队列的元素"
   ]
  },
  {
   "cell_type": "markdown",
   "metadata": {},
   "source": [
    "TensorFlow提供了tf.Coordinator和tf.QueueRunner两个类来完成多线程协同功能\n",
    "\n",
    "tf.Coordinator主要用于协同多个线程一起停止，提供了should_stop request_stop join三个函数。"
   ]
  },
  {
   "cell_type": "code",
   "execution_count": 14,
   "metadata": {},
   "outputs": [
    {
     "name": "stdout",
     "output_type": "stream",
     "text": [
      "Working on id: 0\n",
      "\n",
      "Working on id: 1\n",
      "\n",
      "Working on id: 2\n",
      "\n",
      "Working on id: 3\n",
      "\n",
      "Working on id: 4\n",
      "\n",
      "Working on id: 0\n",
      "\n",
      "Working on id: 2\n",
      "Stoping from id: 1\n",
      "Working on id: 3\n",
      "\n",
      "\n",
      "\n"
     ]
    }
   ],
   "source": [
    "import tensorflow as tf\n",
    "import numpy as np\n",
    "import threading\n",
    "import time\n",
    "\n",
    "def MyLoop(coord, worker_id):\n",
    "    while not coord.should_stop():\n",
    "        if np.random.rand() < 0.1:\n",
    "            print(\"Stoping from id: %d\\n\" % worker_id)\n",
    "            coord.request_stop()\n",
    "        else:\n",
    "            print(\"Working on id: %d\\n\" % worker_id)\n",
    "        time.sleep(1)\n",
    "\n",
    "coord = tf.train.Coordinator()\n",
    "threads = [threading.Thread(target=MyLoop, args=(coord,i,))\n",
    "          for i in range(5)]\n",
    "for t in threads: t.start()\n",
    "\n",
    "coord.join(threads)\n"
   ]
  },
  {
   "cell_type": "markdown",
   "metadata": {},
   "source": [
    "tf.QueueRunner主要用于启动多个线程来操作同一个队列。"
   ]
  },
  {
   "cell_type": "code",
   "execution_count": 16,
   "metadata": {},
   "outputs": [
    {
     "name": "stdout",
     "output_type": "stream",
     "text": [
      "-2.71738\n",
      "1.50666\n",
      "-2.30256\n"
     ]
    }
   ],
   "source": [
    "import tensorflow as tf\n",
    "\n",
    "queue = tf.FIFOQueue(100,\"float\")\n",
    "\n",
    "enqueue_op = queue.enqueue([tf.random_normal([1])])\n",
    "\n",
    "qr = tf.train.QueueRunner(queue, [enqueue_op]*5)\n",
    "\n",
    "tf.train.add_queue_runner(qr)\n",
    "out_tensor = queue.dequeue()\n",
    "\n",
    "with tf.Session() as sess:\n",
    "    coord = tf.train.Coordinator()\n",
    "    threads = tf.train.start_queue_runners(sess=sess,coord=coord)\n",
    "    for _ in range(3): print(sess.run(out_tensor)[0])\n",
    "\n",
    "    coord.request_stop()\n",
    "    coord.join(threads)"
   ]
  },
  {
   "cell_type": "markdown",
   "metadata": {
    "collapsed": true
   },
   "source": [
    "# 第10章"
   ]
  },
  {
   "cell_type": "markdown",
   "metadata": {},
   "source": [
    "## 10.1 TensorFlow使用GPU"
   ]
  },
  {
   "cell_type": "markdown",
   "metadata": {},
   "source": [
    "TensorFlow提供了一个快捷的方式来查看运行于每个运算的设备。下面展示如何使用log_device_placement这个参数。"
   ]
  },
  {
   "cell_type": "code",
   "execution_count": 15,
   "metadata": {},
   "outputs": [
    {
     "name": "stdout",
     "output_type": "stream",
     "text": [
      "[ 2.  4.  6.]\n"
     ]
    }
   ],
   "source": [
    "import tensorflow as tf\n",
    "\n",
    "a = tf.constant([1.0,2.0,3.0], shape=[3], name='a')\n",
    "b = tf.constant([1.0,2.0,3.0], shape=[3], name='b')\n",
    "c = a + b\n",
    "\n",
    "sess = tf.Session(config=tf.ConfigProto(log_device_placement=True))\n",
    "print(sess.run(c))"
   ]
  },
  {
   "cell_type": "code",
   "execution_count": null,
   "metadata": {
    "collapsed": true
   },
   "outputs": [],
   "source": []
  }
 ],
 "metadata": {
  "kernelspec": {
   "display_name": "Python 3",
   "language": "python",
   "name": "python3"
  },
  "language_info": {
   "codemirror_mode": {
    "name": "ipython",
    "version": 3
   },
   "file_extension": ".py",
   "mimetype": "text/x-python",
   "name": "python",
   "nbconvert_exporter": "python",
   "pygments_lexer": "ipython3",
   "version": "3.6.1"
  }
 },
 "nbformat": 4,
 "nbformat_minor": 2
}
